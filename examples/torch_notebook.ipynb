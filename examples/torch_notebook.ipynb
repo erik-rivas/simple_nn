{
 "cells": [
  {
   "cell_type": "code",
   "execution_count": 1,
   "metadata": {},
   "outputs": [],
   "source": [
    "import numpy as np\n",
    "from torch import nn\n",
    "import torch"
   ]
  },
  {
   "cell_type": "code",
   "execution_count": 2,
   "metadata": {},
   "outputs": [
    {
     "name": "stdout",
     "output_type": "stream",
     "text": [
      "tensor([[[[ 0.,  1.,  2.,  3.,  0.],\n",
      "          [ 4.,  5.,  6.,  7.,  0.],\n",
      "          [ 8.,  9., 10., 11.,  0.],\n",
      "          [12., 13., 14., 15.,  0.],\n",
      "          [ 0.,  0.,  0.,  0.,  0.]]]], grad_fn=<ConvolutionBackward0>)\n",
      "torch.Size([1, 1, 5, 5])\n"
     ]
    }
   ],
   "source": [
    "# kernel = torch.tensor([1])\n",
    "kernel = torch.tensor([[0, 0], [0, 1]])\n",
    "# kernel = torch.tensor([[0, 0, 0], [0, 1, 0], [0, 0, 0]])\n",
    "conv2d_layer_small = nn.Conv2d(\n",
    "    in_channels=1, out_channels=1, kernel_size=kernel.shape[0], stride=1, padding=1\n",
    ")\n",
    "# Initialize the kernel for a simple detector\n",
    "with torch.no_grad():\n",
    "    bias = torch.tensor([0])\n",
    "\n",
    "    conv2d_layer_small.weight[0, 0, :, :] = kernel\n",
    "    conv2d_layer_small.bias[0] = bias\n",
    "\n",
    "    input = torch.tensor(np.arange(16).reshape(1, 1, 4, 4), dtype=torch.float32, requires_grad=True)\n",
    "\n",
    "output = conv2d_layer_small(input)\n",
    "print(output)\n",
    "print(output.shape)\n",
    "\n",
    "output.backward(torch.ones_like(output))"
   ]
  },
  {
   "cell_type": "code",
   "execution_count": 3,
   "metadata": {},
   "outputs": [
    {
     "name": "stdout",
     "output_type": "stream",
     "text": [
      "tensor([[[[120., 120.],\n",
      "          [120., 120.]]]])\n",
      "tensor([25.])\n",
      "tensor([[[[1., 1., 1., 1.],\n",
      "          [1., 1., 1., 1.],\n",
      "          [1., 1., 1., 1.],\n",
      "          [1., 1., 1., 1.]]]])\n"
     ]
    }
   ],
   "source": [
    "\n",
    "# Extract the gradients\n",
    "d_filters_small_pytorch = conv2d_layer_small.weight.grad\n",
    "d_biases_small_pytorch = conv2d_layer_small.bias.grad\n",
    "\n",
    "print(d_filters_small_pytorch)\n",
    "print(d_biases_small_pytorch)\n",
    "print(input.grad)\n"
   ]
  }
 ],
 "metadata": {
  "kernelspec": {
   "display_name": ".venv",
   "language": "python",
   "name": "python3"
  },
  "language_info": {
   "codemirror_mode": {
    "name": "ipython",
    "version": 3
   },
   "file_extension": ".py",
   "mimetype": "text/x-python",
   "name": "python",
   "nbconvert_exporter": "python",
   "pygments_lexer": "ipython3",
   "version": "3.10.11"
  },
  "orig_nbformat": 4
 },
 "nbformat": 4,
 "nbformat_minor": 2
}
