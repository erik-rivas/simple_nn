{
 "cells": [
  {
   "cell_type": "code",
   "execution_count": 19,
   "metadata": {},
   "outputs": [],
   "source": [
    "import numpy as np\n",
    "from neural_network.layers.layer_conv2d import Layer_Conv2D\n"
   ]
  },
  {
   "cell_type": "code",
   "execution_count": 22,
   "metadata": {},
   "outputs": [
    {
     "ename": "ValueError",
     "evalue": "not enough values to unpack (expected 4, got 3)",
     "output_type": "error",
     "traceback": [
      "\u001b[0;31m---------------------------------------------------------------------------\u001b[0m",
      "\u001b[0;31mValueError\u001b[0m                                Traceback (most recent call last)",
      "Cell \u001b[0;32mIn[22], line 10\u001b[0m\n\u001b[1;32m      8\u001b[0m \u001b[39m# Forward pass\u001b[39;00m\n\u001b[1;32m      9\u001b[0m \u001b[39minput\u001b[39m \u001b[39m=\u001b[39m np\u001b[39m.\u001b[39marray([[[\u001b[39m1\u001b[39m, \u001b[39m2\u001b[39m, \u001b[39m3\u001b[39m], [\u001b[39m4\u001b[39m, \u001b[39m5\u001b[39m, \u001b[39m6\u001b[39m], [\u001b[39m7\u001b[39m, \u001b[39m8\u001b[39m, \u001b[39m9\u001b[39m]]])\n\u001b[0;32m---> 10\u001b[0m output \u001b[39m=\u001b[39m conv\u001b[39m.\u001b[39;49mforward(\u001b[39minput\u001b[39;49m)\n",
      "File \u001b[0;32m~/workspace/learning/ai/simple_nn/neural_network/layers/layer_conv2d.py:37\u001b[0m, in \u001b[0;36mLayer_Conv2D.forward\u001b[0;34m(self, input)\u001b[0m\n\u001b[1;32m     27\u001b[0m \u001b[39m\u001b[39m\u001b[39m\"\"\"\u001b[39;00m\n\u001b[1;32m     28\u001b[0m \u001b[39mPerforms a forward pass through the Conv2D layer.\u001b[39;00m\n\u001b[1;32m     29\u001b[0m \n\u001b[0;32m   (...)\u001b[0m\n\u001b[1;32m     34\u001b[0m \u001b[39m    numpy.ndarray: The output data.\u001b[39;00m\n\u001b[1;32m     35\u001b[0m \u001b[39m\"\"\"\u001b[39;00m\n\u001b[1;32m     36\u001b[0m \u001b[39mself\u001b[39m\u001b[39m.\u001b[39minput \u001b[39m=\u001b[39m \u001b[39minput\u001b[39m\n\u001b[0;32m---> 37\u001b[0m n_samples, in_channels, h_i, w_i \u001b[39m=\u001b[39m \u001b[39minput\u001b[39m\u001b[39m.\u001b[39mshape\n\u001b[1;32m     38\u001b[0m out_channels, _, h_f, w_f \u001b[39m=\u001b[39m \u001b[39mself\u001b[39m\u001b[39m.\u001b[39mfilters\u001b[39m.\u001b[39mshape\n\u001b[1;32m     40\u001b[0m h_o \u001b[39m=\u001b[39m (h_i \u001b[39m-\u001b[39m h_f \u001b[39m+\u001b[39m \u001b[39m2\u001b[39m \u001b[39m*\u001b[39m \u001b[39mself\u001b[39m\u001b[39m.\u001b[39mpadding) \u001b[39m/\u001b[39m\u001b[39m/\u001b[39m \u001b[39mself\u001b[39m\u001b[39m.\u001b[39mstride \u001b[39m+\u001b[39m \u001b[39m1\u001b[39m\n",
      "\u001b[0;31mValueError\u001b[0m: not enough values to unpack (expected 4, got 3)"
     ]
    }
   ],
   "source": [
    "# Initialize Conv2D layer\n",
    "conv = Layer_Conv2D(in_channels=1, out_channels=1, kernel_size=2, stride=1, padding=1)\n",
    "\n",
    "# Set filters and biases to known values\n",
    "conv.filters = np.array([[[[1, 0], [0, 1]]]])\n",
    "conv.biases = np.array([[1]])\n",
    "\n",
    "# Forward pass\n",
    "input = np.array([[[1, 2, 3], [4, 5, 6], [7, 8, 9]]])\n",
    "output = conv.forward(input)\n"
   ]
  },
  {
   "cell_type": "code",
   "execution_count": null,
   "metadata": {},
   "outputs": [],
   "source": [
    "# Expected output\n",
    "expected_output = np.array([[[2, 3, 4], [5, 7, 9], [8, 13, 15]]])\n",
    "assert np.allclose(\n",
    "    output, expected_output\n",
    "), f\"Expected {expected_output}, but got {output}\"\n",
    "\n",
    "# Backward pass\n",
    "dL_dy = np.full((1, 3, 3), 0.1)\n",
    "d_input = conv.backward(dL_dy)\n",
    "\n",
    "# Expected gradients\n",
    "expected_d_filters = np.array([[[[3.1, 4.6], [6.1, 7.6]]]])\n",
    "expected_d_biases = np.array([[0.9]])\n",
    "expected_d_input = np.full((1, 3, 3), 0.2)\n",
    "\n",
    "assert np.allclose(\n",
    "    conv.d_filters, expected_d_filters\n",
    "), f\"Expected {expected_d_filters}, but got {conv.d_filters}\"\n",
    "assert np.allclose(\n",
    "    conv.d_biases, expected_d_biases\n",
    "), f\"Expected {expected_d_biases}, but got {conv.d_biases}\"\n",
    "assert np.allclose(\n",
    "    d_input, expected_d_input\n",
    "), f\"Expected {expected_d_input}, but got {d_input}\""
   ]
  }
 ],
 "metadata": {
  "kernelspec": {
   "display_name": ".venv",
   "language": "python",
   "name": "python3"
  },
  "language_info": {
   "codemirror_mode": {
    "name": "ipython",
    "version": 3
   },
   "file_extension": ".py",
   "mimetype": "text/x-python",
   "name": "python",
   "nbconvert_exporter": "python",
   "pygments_lexer": "ipython3",
   "version": "3.10.11"
  },
  "orig_nbformat": 4
 },
 "nbformat": 4,
 "nbformat_minor": 2
}
